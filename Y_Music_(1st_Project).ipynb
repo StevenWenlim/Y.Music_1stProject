{
  "cells": [
    {
      "cell_type": "markdown",
      "metadata": {
        "id": "E0vqbgi9ay0H"
      },
      "source": [
        "# Y.Music"
      ]
    },
    {
      "cell_type": "markdown",
      "metadata": {
        "id": "fhq_eyov_Zcs"
      },
      "source": [
        "# Contents <a id='back'></a>\n",
        "\n",
        "* [Introduction](#intro)\n",
        "* [Stage 1. Data Overview](#data_review)\n",
        "    * [Initial Conclusions](#data_review_conclusions)\n",
        "* [Stage 2. Data Preprocessing](#data_preprocessing)\n",
        "    * [2.1 Header Style](#header_style)\n",
        "    * [2.2 Missing Values](#missing_values)\n",
        "    * [2.3 Duplicate Data](#duplicates)\n",
        "    * [2.4 Data Preprocessing Conclusions](#data_preprocessing_conclusions)\n",
        "* [Stage 3. Hypotheses Testing](#hypotheses)\n",
        "    * [3.1 Hypothesis 1: Users activity in two cities.](#activity)\n",
        "    * [3.2 Hypothesis 2: Music Preferences on Monday and Friday](#week)\n",
        "    * [3.3 Hypothesis 3: Genre Preferences in Springfield and Shelbyville](#genre)\n",
        "* [Insights](#end)"
      ]
    },
    {
      "cell_type": "markdown",
      "metadata": {
        "id": "VUC88oWjTJw2"
      },
      "source": [
        "## Introductions <a id='intro'></a>\n",
        "\n",
        "Every time we conduct research, we need to formulate a hypothesis that we could test. Sometimes we accept this hypothesis, but sometimes we also reject it. To generate informed decisions, a business must be able to understand whether its assumptions are true or not.\n",
        "\n",
        "In this project, I will compare music preferences in the cities of Springfield and Shelbyville. You will learn from the actual Y.Music data to test the following hypothesis and compare user behavior in both cities.\n",
        "\n",
        "### Goals: \n",
        "Testing three hypothesis:\n",
        "1. Users activity varies depending on the day and the city.\n",
        "2. On Monday morning, residents of Springfield and Shelbyville listen to different genres. This also valid to Friday night.\n",
        "3. Users in Springfield and Shelbyville have different preferences. In Springfield, they prefer pop music, while in Shelbyville, rap music has more fans.\n",
        "\n",
        "### Steps \n",
        "\n",
        "The data related to users behavior is stored in the file `/datasets/music_project_en.csv`. There is no information available regarding the quality of the data, therefore it is necessary to first examine it before testing any hypotheses.\n",
        "\n",
        "Firstly, I will evaluate the data quality and determine if there any issues are significant. Then, during the data pre-processing stage, I will attempt to address the most serious problems.\n",
        "\n",
        "This projects will consist of 3 steps: \n",
        " 1. Data Overview\n",
        " 2. Preprocessing Data\n",
        " 3. Testing the Hypothesis\n",
        " \n",
        "[Back to Table of Contents](#back)"
      ]
    },
    {
      "cell_type": "markdown",
      "metadata": {
        "id": "Ml1hmfXC_Zcs"
      },
      "source": [
        "## Stage 1. Data Overvier <a id='data_review'></a>"
      ]
    },
    {
      "cell_type": "code",
      "execution_count": null,
      "metadata": {
        "id": "AXN7PHPN_Zcs"
      },
      "outputs": [],
      "source": [
        "# Import Pandas\n",
        "import pandas as pd"
      ]
    },
    {
      "cell_type": "code",
      "execution_count": null,
      "metadata": {
        "id": "fFVu7vqh_Zct",
        "outputId": "322c359b-23f0-454d-ce04-42bab4188cc8"
      },
      "outputs": [
        {
          "data": {
            "text/html": [
              "<div>\n",
              "<style scoped>\n",
              "    .dataframe tbody tr th:only-of-type {\n",
              "        vertical-align: middle;\n",
              "    }\n",
              "\n",
              "    .dataframe tbody tr th {\n",
              "        vertical-align: top;\n",
              "    }\n",
              "\n",
              "    .dataframe thead th {\n",
              "        text-align: right;\n",
              "    }\n",
              "</style>\n",
              "<table border=\"1\" class=\"dataframe\">\n",
              "  <thead>\n",
              "    <tr style=\"text-align: right;\">\n",
              "      <th></th>\n",
              "      <th>userID</th>\n",
              "      <th>Track</th>\n",
              "      <th>artist</th>\n",
              "      <th>genre</th>\n",
              "      <th>City</th>\n",
              "      <th>time</th>\n",
              "      <th>Day</th>\n",
              "    </tr>\n",
              "  </thead>\n",
              "  <tbody>\n",
              "    <tr>\n",
              "      <th>count</th>\n",
              "      <td>65079</td>\n",
              "      <td>63736</td>\n",
              "      <td>57512</td>\n",
              "      <td>63881</td>\n",
              "      <td>65079</td>\n",
              "      <td>65079</td>\n",
              "      <td>65079</td>\n",
              "    </tr>\n",
              "    <tr>\n",
              "      <th>unique</th>\n",
              "      <td>41748</td>\n",
              "      <td>39666</td>\n",
              "      <td>37806</td>\n",
              "      <td>268</td>\n",
              "      <td>2</td>\n",
              "      <td>20392</td>\n",
              "      <td>3</td>\n",
              "    </tr>\n",
              "    <tr>\n",
              "      <th>top</th>\n",
              "      <td>A8AE9169</td>\n",
              "      <td>Brand</td>\n",
              "      <td>Kartvelli</td>\n",
              "      <td>pop</td>\n",
              "      <td>Springfield</td>\n",
              "      <td>08:14:07</td>\n",
              "      <td>Friday</td>\n",
              "    </tr>\n",
              "    <tr>\n",
              "      <th>freq</th>\n",
              "      <td>76</td>\n",
              "      <td>136</td>\n",
              "      <td>136</td>\n",
              "      <td>8850</td>\n",
              "      <td>45360</td>\n",
              "      <td>14</td>\n",
              "      <td>23149</td>\n",
              "    </tr>\n",
              "  </tbody>\n",
              "</table>\n",
              "</div>"
            ],
            "text/plain": [
              "          userID  Track     artist  genre       City        time     Day\n",
              "count      65079  63736      57512  63881        65079     65079   65079\n",
              "unique     41748  39666      37806    268            2     20392       3\n",
              "top     A8AE9169  Brand  Kartvelli    pop  Springfield  08:14:07  Friday\n",
              "freq          76    136        136   8850        45360        14   23149"
            ]
          },
          "execution_count": 2,
          "metadata": {},
          "output_type": "execute_result"
        }
      ],
      "source": [
        "df = pd.read_csv('/datasets/music_project_en.csv')\n",
        "df.describe()"
      ]
    },
    {
      "cell_type": "code",
      "execution_count": null,
      "metadata": {
        "id": "oWTVX3gW_Zct",
        "outputId": "1338f4ff-2526-4f3d-a8a6-4abaaa71c3b9"
      },
      "outputs": [
        {
          "data": {
            "text/html": [
              "<div>\n",
              "<style scoped>\n",
              "    .dataframe tbody tr th:only-of-type {\n",
              "        vertical-align: middle;\n",
              "    }\n",
              "\n",
              "    .dataframe tbody tr th {\n",
              "        vertical-align: top;\n",
              "    }\n",
              "\n",
              "    .dataframe thead th {\n",
              "        text-align: right;\n",
              "    }\n",
              "</style>\n",
              "<table border=\"1\" class=\"dataframe\">\n",
              "  <thead>\n",
              "    <tr style=\"text-align: right;\">\n",
              "      <th></th>\n",
              "      <th>userID</th>\n",
              "      <th>Track</th>\n",
              "      <th>artist</th>\n",
              "      <th>genre</th>\n",
              "      <th>City</th>\n",
              "      <th>time</th>\n",
              "      <th>Day</th>\n",
              "    </tr>\n",
              "  </thead>\n",
              "  <tbody>\n",
              "    <tr>\n",
              "      <th>0</th>\n",
              "      <td>FFB692EC</td>\n",
              "      <td>Kamigata To Boots</td>\n",
              "      <td>The Mass Missile</td>\n",
              "      <td>rock</td>\n",
              "      <td>Shelbyville</td>\n",
              "      <td>20:28:33</td>\n",
              "      <td>Wednesday</td>\n",
              "    </tr>\n",
              "    <tr>\n",
              "      <th>1</th>\n",
              "      <td>55204538</td>\n",
              "      <td>Delayed Because of Accident</td>\n",
              "      <td>Andreas Rönnberg</td>\n",
              "      <td>rock</td>\n",
              "      <td>Springfield</td>\n",
              "      <td>14:07:09</td>\n",
              "      <td>Friday</td>\n",
              "    </tr>\n",
              "    <tr>\n",
              "      <th>2</th>\n",
              "      <td>20EC38</td>\n",
              "      <td>Funiculì funiculà</td>\n",
              "      <td>Mario Lanza</td>\n",
              "      <td>pop</td>\n",
              "      <td>Shelbyville</td>\n",
              "      <td>20:58:07</td>\n",
              "      <td>Wednesday</td>\n",
              "    </tr>\n",
              "    <tr>\n",
              "      <th>3</th>\n",
              "      <td>A3DD03C9</td>\n",
              "      <td>Dragons in the Sunset</td>\n",
              "      <td>Fire + Ice</td>\n",
              "      <td>folk</td>\n",
              "      <td>Shelbyville</td>\n",
              "      <td>08:37:09</td>\n",
              "      <td>Monday</td>\n",
              "    </tr>\n",
              "    <tr>\n",
              "      <th>4</th>\n",
              "      <td>E2DC1FAE</td>\n",
              "      <td>Soul People</td>\n",
              "      <td>Space Echo</td>\n",
              "      <td>dance</td>\n",
              "      <td>Springfield</td>\n",
              "      <td>08:34:34</td>\n",
              "      <td>Monday</td>\n",
              "    </tr>\n",
              "    <tr>\n",
              "      <th>5</th>\n",
              "      <td>842029A1</td>\n",
              "      <td>Chains</td>\n",
              "      <td>Obladaet</td>\n",
              "      <td>rusrap</td>\n",
              "      <td>Shelbyville</td>\n",
              "      <td>13:09:41</td>\n",
              "      <td>Friday</td>\n",
              "    </tr>\n",
              "    <tr>\n",
              "      <th>6</th>\n",
              "      <td>4CB90AA5</td>\n",
              "      <td>True</td>\n",
              "      <td>Roman Messer</td>\n",
              "      <td>dance</td>\n",
              "      <td>Springfield</td>\n",
              "      <td>13:00:07</td>\n",
              "      <td>Wednesday</td>\n",
              "    </tr>\n",
              "    <tr>\n",
              "      <th>7</th>\n",
              "      <td>F03E1C1F</td>\n",
              "      <td>Feeling This Way</td>\n",
              "      <td>Polina Griffith</td>\n",
              "      <td>dance</td>\n",
              "      <td>Springfield</td>\n",
              "      <td>20:47:49</td>\n",
              "      <td>Wednesday</td>\n",
              "    </tr>\n",
              "    <tr>\n",
              "      <th>8</th>\n",
              "      <td>8FA1D3BE</td>\n",
              "      <td>L’estate</td>\n",
              "      <td>Julia Dalia</td>\n",
              "      <td>ruspop</td>\n",
              "      <td>Springfield</td>\n",
              "      <td>09:17:40</td>\n",
              "      <td>Friday</td>\n",
              "    </tr>\n",
              "    <tr>\n",
              "      <th>9</th>\n",
              "      <td>E772D5C0</td>\n",
              "      <td>Pessimist</td>\n",
              "      <td>NaN</td>\n",
              "      <td>dance</td>\n",
              "      <td>Shelbyville</td>\n",
              "      <td>21:20:49</td>\n",
              "      <td>Wednesday</td>\n",
              "    </tr>\n",
              "  </tbody>\n",
              "</table>\n",
              "</div>"
            ],
            "text/plain": [
              "     userID                        Track            artist   genre  \\\n",
              "0  FFB692EC            Kamigata To Boots  The Mass Missile    rock   \n",
              "1  55204538  Delayed Because of Accident  Andreas Rönnberg    rock   \n",
              "2    20EC38            Funiculì funiculà       Mario Lanza     pop   \n",
              "3  A3DD03C9        Dragons in the Sunset        Fire + Ice    folk   \n",
              "4  E2DC1FAE                  Soul People        Space Echo   dance   \n",
              "5  842029A1                       Chains          Obladaet  rusrap   \n",
              "6  4CB90AA5                         True      Roman Messer   dance   \n",
              "7  F03E1C1F             Feeling This Way   Polina Griffith   dance   \n",
              "8  8FA1D3BE                     L’estate       Julia Dalia  ruspop   \n",
              "9  E772D5C0                    Pessimist               NaN   dance   \n",
              "\n",
              "        City        time        Day  \n",
              "0  Shelbyville  20:28:33  Wednesday  \n",
              "1  Springfield  14:07:09     Friday  \n",
              "2  Shelbyville  20:58:07  Wednesday  \n",
              "3  Shelbyville  08:37:09     Monday  \n",
              "4  Springfield  08:34:34     Monday  \n",
              "5  Shelbyville  13:09:41     Friday  \n",
              "6  Springfield  13:00:07  Wednesday  \n",
              "7  Springfield  20:47:49  Wednesday  \n",
              "8  Springfield  09:17:40     Friday  \n",
              "9  Shelbyville  21:20:49  Wednesday  "
            ]
          },
          "execution_count": 3,
          "metadata": {},
          "output_type": "execute_result"
        }
      ],
      "source": [
        "df.head(10)"
      ]
    },
    {
      "cell_type": "code",
      "execution_count": null,
      "metadata": {
        "id": "DSf2kIb-_Zct",
        "outputId": "83be12c0-fa7d-4375-f466-024bc6612524"
      },
      "outputs": [
        {
          "name": "stdout",
          "output_type": "stream",
          "text": [
            "<class 'pandas.core.frame.DataFrame'>\n",
            "RangeIndex: 65079 entries, 0 to 65078\n",
            "Data columns (total 7 columns):\n",
            " #   Column    Non-Null Count  Dtype \n",
            "---  ------    --------------  ----- \n",
            " 0     userID  65079 non-null  object\n",
            " 1   Track     63736 non-null  object\n",
            " 2   artist    57512 non-null  object\n",
            " 3   genre     63881 non-null  object\n",
            " 4     City    65079 non-null  object\n",
            " 5   time      65079 non-null  object\n",
            " 6   Day       65079 non-null  object\n",
            "dtypes: object(7)\n",
            "memory usage: 3.5+ MB\n"
          ]
        }
      ],
      "source": [
        "df.info()"
      ]
    },
    {
      "cell_type": "markdown",
      "metadata": {
        "id": "TaQ2Iwbr_Zct"
      },
      "source": [
        "This table contains seven columns, all of which hold the same data type, namely: object.\n",
        "\n",
        "Recording to documentation:\n",
        "- `'userID'` — User identifier\n",
        "- `'Track'` — Track Title\n",
        "- `'artist'` — Artist Name\n",
        "- `'genre'`\n",
        "- `'City'` — city where the user is located\n",
        "- `'time'` — duration of the played track\n",
        "- `'Day'` — name of the day\n",
        "\n",
        "We can identify three issues with the column names:\n",
        "1. Some column names are written in uppercase while others are written in lowercase.\n",
        "2. Some column names contain spaces.\n",
        "3. The terms \"city\", \"time\", and \"day\" are ambiguous as it is unclear whether they refer to the song or the user.\n",
        "\n",
        "The number of values in each column is different, indicating that the data contains missing values."
      ]
    },
    {
      "cell_type": "markdown",
      "metadata": {
        "id": "MCB6-dXG_Zct"
      },
      "source": [
        "### Data Preprocessing Conclusions <a id='data_review_conclusions'></a> \n",
        "\n",
        "Each row in the table contains data on the played track. Some columns describe the song itself: track title, artist, and genre. The rest convey information about the user: their city of origin, and the time they played the song.\n",
        "\n",
        "It is evident that the data is sufficient for testing hypotheses, although there are missing values.\n",
        "\n",
        "Next, we need to conduct data pre-processing before proceeding."
      ]
    },
    {
      "cell_type": "markdown",
      "metadata": {
        "id": "3eL__vcwViOi"
      },
      "source": [
        "[Back to Table of Contents](#back)"
      ]
    },
    {
      "cell_type": "markdown",
      "metadata": {
        "id": "SjYF6Ub9_Zct"
      },
      "source": [
        "## Stage 2. Data Preprocessing<a id='data_preprocessing'></a>"
      ]
    },
    {
      "cell_type": "markdown",
      "metadata": {
        "id": "dIaKXr29_Zct"
      },
      "source": [
        "### Header Style <a id='header_style'></a>"
      ]
    },
    {
      "cell_type": "code",
      "execution_count": null,
      "metadata": {
        "id": "oKOTdF_Q_Zct",
        "scrolled": true,
        "outputId": "f0f80af4-cfbc-4c9b-a3f8-90ca0354afbe"
      },
      "outputs": [
        {
          "data": {
            "text/plain": [
              "Index(['  userID', 'Track', 'artist', 'genre', '  City  ', 'time', 'Day'], dtype='object')"
            ]
          },
          "execution_count": 5,
          "metadata": {},
          "output_type": "execute_result"
        }
      ],
      "source": [
        "df.columns"
      ]
    },
    {
      "cell_type": "markdown",
      "metadata": {
        "id": "zj5534cv_Zct"
      },
      "source": [
        "Modify the columns name according to  good writing style:\n",
        "* Use snake_case for column names with multiple words.\n",
        "* All characters should be in lowercase.\n",
        "* Remove spaces."
      ]
    },
    {
      "cell_type": "code",
      "execution_count": null,
      "metadata": {
        "id": "ISlFqs5y_Zct"
      },
      "outputs": [],
      "source": [
        "df = df.rename(\n",
        "    columns={\n",
        "    '  userID' : 'user_id',\n",
        "    'Track' : 'track',\n",
        "    'artist' : 'artist',\n",
        "    'genre' : 'genre',\n",
        "    '  City  ' : 'user_city',\n",
        "    'time' :'time_play',\n",
        "    'Day' : 'day_play',\n",
        "    }\n",
        ")"
      ]
    },
    {
      "cell_type": "code",
      "execution_count": null,
      "metadata": {
        "id": "WCfEQfGRVm9x"
      },
      "outputs": [],
      "source": [
        "df = df.rename(\n",
        "    columns={\n",
        "    '  userID' : 'user_id',\n",
        "    'Track' : 'track',\n",
        "    '  City  ' : 'user_city',\n",
        "    'time' :'time_play',\n",
        "    'Day' : 'day_play',\n",
        "    }\n",
        ")"
      ]
    },
    {
      "cell_type": "code",
      "execution_count": null,
      "metadata": {
        "id": "d4NOAmTW_Zct",
        "outputId": "e034b02c-5649-45c4-b876-271388c44371"
      },
      "outputs": [
        {
          "data": {
            "text/plain": [
              "Index(['user_id', 'track', 'artist', 'genre', 'user_city', 'time_play',\n",
              "       'day_play'],\n",
              "      dtype='object')"
            ]
          },
          "execution_count": 8,
          "metadata": {},
          "output_type": "execute_result"
        }
      ],
      "source": [
        "df.columns# mengecek hasil: daftar nama kolom"
      ]
    },
    {
      "cell_type": "markdown",
      "metadata": {
        "id": "xYJk6ksJVpOl"
      },
      "source": [
        "[Back to Table of Contents](#back)"
      ]
    },
    {
      "cell_type": "markdown",
      "metadata": {
        "id": "5ISfbcfY_Zct"
      },
      "source": [
        "### Missing Values <a id='missing_values'></a>"
      ]
    },
    {
      "cell_type": "code",
      "execution_count": null,
      "metadata": {
        "id": "RskX29qr_Zct",
        "scrolled": true,
        "outputId": "afc675a8-d9fc-44b8-84c5-2aa98dd9e07e"
      },
      "outputs": [
        {
          "data": {
            "text/plain": [
              "user_id         0\n",
              "track        1343\n",
              "artist       7567\n",
              "genre        1198\n",
              "user_city       0\n",
              "time_play       0\n",
              "day_play        0\n",
              "dtype: int64"
            ]
          },
          "execution_count": 7,
          "metadata": {},
          "output_type": "execute_result"
        }
      ],
      "source": [
        "df.isna().sum()"
      ]
    },
    {
      "cell_type": "markdown",
      "metadata": {
        "id": "qubhgnlO_Zct"
      },
      "source": [
        "Not all of the missing values will affect to the study. Such like, missing values in the `track` and `artist` are not critical. This could be replace with a clearer marker.\n",
        "However missing values in `genre` will affect the comparison of music preferences in Springfield and Shelbyville. In real life, it's useful to investigage on why there're missing values and try to fix it. However, we dont have that chance to do so in this project. Therefore, I should:\n",
        "* Fill the missing values with a marker.\n",
        "* Evaluate on how far the missing values can impact my calculations."
      ]
    },
    {
      "cell_type": "code",
      "execution_count": null,
      "metadata": {
        "id": "KplB5qWs_Zct"
      },
      "outputs": [],
      "source": [
        "columns_to_replace = ['track', 'artist', 'genre']\n",
        "df[columns_to_replace] = df[columns_to_replace].fillna('unknown')"
      ]
    },
    {
      "cell_type": "markdown",
      "metadata": {
        "id": "UUkz48erVm9z"
      },
      "source": [
        "<div class=\"alert alert-success\">\n",
        "<b>Reviewer's comment v1</b> <a class=\"tocSkip\"></a>\n",
        "\n",
        "Telah mendefinisikan list `columns_to_replace` tanpa error sehingga dapat melakukan imputasi nilai-nilai yang hilang dengan lancar.\n",
        "\n",
        "</div>"
      ]
    },
    {
      "cell_type": "code",
      "execution_count": null,
      "metadata": {
        "id": "Tq4nYRX4_Zct",
        "outputId": "b33ac2ab-c76a-4464-ecbf-2b124c102725"
      },
      "outputs": [
        {
          "data": {
            "text/plain": [
              "user_id      0\n",
              "track        0\n",
              "artist       0\n",
              "genre        0\n",
              "user_city    0\n",
              "time_play    0\n",
              "day_play     0\n",
              "dtype: int64"
            ]
          },
          "execution_count": 9,
          "metadata": {},
          "output_type": "execute_result"
        }
      ],
      "source": [
        "df.isna().sum()"
      ]
    },
    {
      "cell_type": "markdown",
      "metadata": {
        "id": "74ZIBmq9VrsK"
      },
      "source": [
        "[Back to Table of Content](#back)"
      ]
    },
    {
      "cell_type": "markdown",
      "metadata": {
        "id": "BWKRtBJ3_Zct"
      },
      "source": [
        "### Duplicated Data <a id='duplicates'></a>"
      ]
    },
    {
      "cell_type": "code",
      "execution_count": null,
      "metadata": {
        "id": "36eES_S0_Zct",
        "scrolled": true,
        "outputId": "8e968594-70d1-47b8-a8d6-d0dc7c34fd1f"
      },
      "outputs": [
        {
          "data": {
            "text/plain": [
              "3826"
            ]
          },
          "execution_count": 10,
          "metadata": {},
          "output_type": "execute_result"
        }
      ],
      "source": [
        "df.duplicated().sum()"
      ]
    },
    {
      "cell_type": "code",
      "execution_count": null,
      "metadata": {
        "id": "BY_JihGEVm9z"
      },
      "outputs": [],
      "source": [
        "df = df.drop_duplicates().reset_index(drop=True)"
      ]
    },
    {
      "cell_type": "code",
      "execution_count": null,
      "metadata": {
        "id": "-8PuNWQ0_Zct",
        "outputId": "5c403426-7277-4ff9-f0a3-3872666f0e5c"
      },
      "outputs": [
        {
          "data": {
            "text/plain": [
              "0"
            ]
          },
          "execution_count": 13,
          "metadata": {},
          "output_type": "execute_result"
        }
      ],
      "source": [
        "df.duplicated().sum()"
      ]
    },
    {
      "cell_type": "markdown",
      "metadata": {
        "id": "QlFBsxAr_Zct"
      },
      "source": [
        "In addition, here I should drop implicit duplicate in `genre` column. For instance, genre name may be written in different way."
      ]
    },
    {
      "cell_type": "markdown",
      "metadata": {
        "id": "eSjWwsOh_Zct"
      },
      "source": [
        "Preview a list of unique genre name, sorted alphabetically.\n",
        "* Take the specified Dataframe column\n",
        "* Apply a sorting method to do so\n",
        "* For the sorted column, call a method that will produce all unique values in the column"
      ]
    },
    {
      "cell_type": "code",
      "execution_count": null,
      "metadata": {
        "id": "JIUcqzZN_Zct",
        "scrolled": true,
        "outputId": "9cc6d0e4-1659-4c26-aa86-60062362b87a"
      },
      "outputs": [
        {
          "data": {
            "text/plain": [
              "array(['rock', 'pop', 'folk', 'dance', 'rusrap', 'ruspop', 'world',\n",
              "       'electronic', 'unknown', 'alternative', 'children', 'rnb', 'hip',\n",
              "       'jazz', 'postrock', 'latin', 'classical', 'metal', 'reggae',\n",
              "       'triphop', 'blues', 'instrumental', 'rusrock', 'dnb', 'türk',\n",
              "       'post', 'country', 'psychedelic', 'conjazz', 'indie',\n",
              "       'posthardcore', 'local', 'avantgarde', 'punk', 'videogame',\n",
              "       'techno', 'house', 'christmas', 'melodic', 'caucasian',\n",
              "       'reggaeton', 'soundtrack', 'singer', 'ska', 'salsa', 'ambient',\n",
              "       'film', 'western', 'rap', 'beats', \"hard'n'heavy\", 'progmetal',\n",
              "       'minimal', 'tropical', 'contemporary', 'new', 'soul', 'holiday',\n",
              "       'german', 'jpop', 'spiritual', 'urban', 'gospel', 'nujazz',\n",
              "       'folkmetal', 'trance', 'miscellaneous', 'anime', 'hardcore',\n",
              "       'progressive', 'korean', 'numetal', 'vocal', 'estrada', 'tango',\n",
              "       'loungeelectronic', 'classicmetal', 'dubstep', 'club', 'deep',\n",
              "       'southern', 'black', 'folkrock', 'fitness', 'french', 'disco',\n",
              "       'religious', 'hiphop', 'drum', 'extrememetal', 'türkçe',\n",
              "       'experimental', 'easy', 'metalcore', 'modern', 'argentinetango',\n",
              "       'old', 'swing', 'breaks', 'eurofolk', 'stonerrock', 'industrial',\n",
              "       'funk', 'middle', 'variété', 'other', 'adult', 'christian',\n",
              "       'thrash', 'gothic', 'international', 'muslim', 'relax', 'schlager',\n",
              "       'caribbean', 'nu', 'breakbeat', 'comedy', 'chill', 'newage',\n",
              "       'specialty', 'uzbek', 'k-pop', 'balkan', 'chinese', 'meditative',\n",
              "       'dub', 'power', 'death', 'grime', 'arabesk', 'romance', 'flamenco',\n",
              "       'leftfield', 'european', 'tech', 'newwave', 'dancehall', 'mpb',\n",
              "       'piano', 'top', 'bigroom', 'opera', 'celtic', 'tradjazz',\n",
              "       'acoustic', 'epicmetal', 'hip-hop', 'historisch', 'downbeat',\n",
              "       'downtempo', 'africa', 'audiobook', 'jewish', 'sängerportrait',\n",
              "       'deutschrock', 'eastern', 'action', 'future', 'electropop',\n",
              "       'folklore', 'bollywood', 'marschmusik', 'rnr', 'karaoke', 'indian',\n",
              "       'rancheras', 'afrikaans', 'rhythm', 'sound', 'deutschspr', 'trip',\n",
              "       'lovers', 'choral', 'dancepop', 'retro', 'smooth', 'mexican',\n",
              "       'brazilian', 'ïîï', 'mood', 'surf', 'gangsta', 'inspirational',\n",
              "       'idm', 'ethnic', 'bluegrass', 'broadway', 'animated', 'americana',\n",
              "       'karadeniz', 'rockabilly', 'colombian', 'self', 'hop', 'sertanejo',\n",
              "       'japanese', 'canzone', 'lounge', 'sport', 'ragga', 'traditional',\n",
              "       'gitarre', 'frankreich', 'emo', 'laiko', 'cantopop', 'glitch',\n",
              "       'documentary', 'oceania', 'popeurodance', 'dark', 'vi', 'grunge',\n",
              "       'hardstyle', 'samba', 'garage', 'art', 'folktronica', 'entehno',\n",
              "       'mediterranean', 'chamber', 'cuban', 'taraftar', 'gypsy',\n",
              "       'hardtechno', 'shoegazing', 'bossa', 'latino', 'worldbeat',\n",
              "       'malaysian', 'baile', 'ghazal', 'arabic', 'popelectronic', 'acid',\n",
              "       'kayokyoku', 'neoklassik', 'tribal', 'tanzorchester', 'native',\n",
              "       'independent', 'cantautori', 'handsup', 'punjabi', 'synthpop',\n",
              "       'rave', 'französisch', 'quebecois', 'speech', 'soulful', 'jam',\n",
              "       'ram', 'horror', 'orchestral', 'neue', 'roots', 'slow', 'jungle',\n",
              "       'indipop', 'axé', 'fado', 'showtunes', 'arena', 'irish',\n",
              "       'mandopop', 'forró', 'dirty', 'regional'], dtype=object)"
            ]
          },
          "execution_count": 14,
          "metadata": {},
          "output_type": "execute_result"
        }
      ],
      "source": [
        "df['genre'].unique()"
      ]
    },
    {
      "cell_type": "code",
      "execution_count": null,
      "metadata": {
        "id": "NUyQXyKNVm90",
        "outputId": "2d526df1-fcc7-4be4-ab4e-020d199498ba"
      },
      "outputs": [
        {
          "data": {
            "text/plain": [
              "array(['acid', 'acoustic', 'action', 'adult', 'africa', 'afrikaans',\n",
              "       'alternative', 'ambient', 'americana', 'animated', 'anime',\n",
              "       'arabesk', 'arabic', 'arena', 'argentinetango', 'art', 'audiobook',\n",
              "       'avantgarde', 'axé', 'baile', 'balkan', 'beats', 'bigroom',\n",
              "       'black', 'bluegrass', 'blues', 'bollywood', 'bossa', 'brazilian',\n",
              "       'breakbeat', 'breaks', 'broadway', 'cantautori', 'cantopop',\n",
              "       'canzone', 'caribbean', 'caucasian', 'celtic', 'chamber',\n",
              "       'children', 'chill', 'chinese', 'choral', 'christian', 'christmas',\n",
              "       'classical', 'classicmetal', 'club', 'colombian', 'comedy',\n",
              "       'conjazz', 'contemporary', 'country', 'cuban', 'dance',\n",
              "       'dancehall', 'dancepop', 'dark', 'death', 'deep', 'deutschrock',\n",
              "       'deutschspr', 'dirty', 'disco', 'dnb', 'documentary', 'downbeat',\n",
              "       'downtempo', 'drum', 'dub', 'dubstep', 'eastern', 'easy',\n",
              "       'electronic', 'electropop', 'emo', 'entehno', 'epicmetal',\n",
              "       'estrada', 'ethnic', 'eurofolk', 'european', 'experimental',\n",
              "       'extrememetal', 'fado', 'film', 'fitness', 'flamenco', 'folk',\n",
              "       'folklore', 'folkmetal', 'folkrock', 'folktronica', 'forró',\n",
              "       'frankreich', 'französisch', 'french', 'funk', 'future', 'gangsta',\n",
              "       'garage', 'german', 'ghazal', 'gitarre', 'glitch', 'gospel',\n",
              "       'gothic', 'grime', 'grunge', 'gypsy', 'handsup', \"hard'n'heavy\",\n",
              "       'hardcore', 'hardstyle', 'hardtechno', 'hip', 'hip-hop', 'hiphop',\n",
              "       'historisch', 'holiday', 'hop', 'horror', 'house', 'idm',\n",
              "       'independent', 'indian', 'indie', 'indipop', 'industrial',\n",
              "       'inspirational', 'instrumental', 'international', 'irish', 'jam',\n",
              "       'japanese', 'jazz', 'jewish', 'jpop', 'jungle', 'k-pop',\n",
              "       'karadeniz', 'karaoke', 'kayokyoku', 'korean', 'laiko', 'latin',\n",
              "       'latino', 'leftfield', 'local', 'lounge', 'loungeelectronic',\n",
              "       'lovers', 'malaysian', 'mandopop', 'marschmusik', 'meditative',\n",
              "       'mediterranean', 'melodic', 'metal', 'metalcore', 'mexican',\n",
              "       'middle', 'minimal', 'miscellaneous', 'modern', 'mood', 'mpb',\n",
              "       'muslim', 'native', 'neoklassik', 'neue', 'new', 'newage',\n",
              "       'newwave', 'nu', 'nujazz', 'numetal', 'oceania', 'old', 'opera',\n",
              "       'orchestral', 'other', 'piano', 'pop', 'popelectronic',\n",
              "       'popeurodance', 'post', 'posthardcore', 'postrock', 'power',\n",
              "       'progmetal', 'progressive', 'psychedelic', 'punjabi', 'punk',\n",
              "       'quebecois', 'ragga', 'ram', 'rancheras', 'rap', 'rave', 'reggae',\n",
              "       'reggaeton', 'regional', 'relax', 'religious', 'retro', 'rhythm',\n",
              "       'rnb', 'rnr', 'rock', 'rockabilly', 'romance', 'roots', 'ruspop',\n",
              "       'rusrap', 'rusrock', 'salsa', 'samba', 'schlager', 'self',\n",
              "       'sertanejo', 'shoegazing', 'showtunes', 'singer', 'ska', 'slow',\n",
              "       'smooth', 'soul', 'soulful', 'sound', 'soundtrack', 'southern',\n",
              "       'specialty', 'speech', 'spiritual', 'sport', 'stonerrock', 'surf',\n",
              "       'swing', 'synthpop', 'sängerportrait', 'tango', 'tanzorchester',\n",
              "       'taraftar', 'tech', 'techno', 'thrash', 'top', 'traditional',\n",
              "       'tradjazz', 'trance', 'tribal', 'trip', 'triphop', 'tropical',\n",
              "       'türk', 'türkçe', 'unknown', 'urban', 'uzbek', 'variété', 'vi',\n",
              "       'videogame', 'vocal', 'western', 'world', 'worldbeat', 'ïîï'],\n",
              "      dtype=object)"
            ]
          },
          "execution_count": 17,
          "metadata": {},
          "output_type": "execute_result"
        }
      ],
      "source": [
        "df['genre'].sort_values().unique()"
      ]
    },
    {
      "cell_type": "markdown",
      "metadata": {
        "id": "qej-Qmuo_Zct"
      },
      "source": [
        "Search through a list to find implicit duplicates of the hiphop genre. This could be misspelled names or alternative names for the same genre.\n",
        "\n",
        "You will find the following implicit duplicates:\n",
        "\n",
        "* `hip`\n",
        "* `hop`\n",
        "* `hip-hop`\n",
        "\n",
        "To remove them, use the replace_wrong_genres() function with two parameters:\n",
        "\n",
        "* `wrong_genres=` — a list of duplicates\n",
        "* `correct_genre=` — a string with the correct value\n",
        "\n",
        "The function should correct the names in the 'genre' column of the df table, replacing each value from the wrong_genres list with the value in correct_genre."
      ]
    },
    {
      "cell_type": "code",
      "execution_count": null,
      "metadata": {
        "id": "ErNDkmns_Zct"
      },
      "outputs": [],
      "source": [
        "def replace_wrong_genres(wrong_genres, correct_genre):\n",
        "    for wrong_genre in wrong_genres:\n",
        "        df['genre'] = df['genre'].replace(wrong_genres, correct_genre)\n",
        "        \n",
        "wrong = ['hip','hop','hip-hop']\n",
        "correct = 'hiphop'"
      ]
    },
    {
      "cell_type": "code",
      "execution_count": null,
      "metadata": {
        "id": "YN5i2hpmSo09"
      },
      "outputs": [],
      "source": [
        "replace_wrong_genres(wrong, correct)"
      ]
    },
    {
      "cell_type": "code",
      "execution_count": null,
      "metadata": {
        "id": "wvixALnFG15m",
        "scrolled": true,
        "outputId": "42d26e88-0cad-4e6e-8c8f-e0c79a76f446"
      },
      "outputs": [
        {
          "data": {
            "text/plain": [
              "array(['rock', 'pop', 'folk', 'dance', 'rusrap', 'ruspop', 'world',\n",
              "       'electronic', 'unknown', 'alternative', 'children', 'rnb',\n",
              "       'hiphop', 'jazz', 'postrock', 'latin', 'classical', 'metal',\n",
              "       'reggae', 'triphop', 'blues', 'instrumental', 'rusrock', 'dnb',\n",
              "       'türk', 'post', 'country', 'psychedelic', 'conjazz', 'indie',\n",
              "       'posthardcore', 'local', 'avantgarde', 'punk', 'videogame',\n",
              "       'techno', 'house', 'christmas', 'melodic', 'caucasian',\n",
              "       'reggaeton', 'soundtrack', 'singer', 'ska', 'salsa', 'ambient',\n",
              "       'film', 'western', 'rap', 'beats', \"hard'n'heavy\", 'progmetal',\n",
              "       'minimal', 'tropical', 'contemporary', 'new', 'soul', 'holiday',\n",
              "       'german', 'jpop', 'spiritual', 'urban', 'gospel', 'nujazz',\n",
              "       'folkmetal', 'trance', 'miscellaneous', 'anime', 'hardcore',\n",
              "       'progressive', 'korean', 'numetal', 'vocal', 'estrada', 'tango',\n",
              "       'loungeelectronic', 'classicmetal', 'dubstep', 'club', 'deep',\n",
              "       'southern', 'black', 'folkrock', 'fitness', 'french', 'disco',\n",
              "       'religious', 'drum', 'extrememetal', 'türkçe', 'experimental',\n",
              "       'easy', 'metalcore', 'modern', 'argentinetango', 'old', 'swing',\n",
              "       'breaks', 'eurofolk', 'stonerrock', 'industrial', 'funk', 'middle',\n",
              "       'variété', 'other', 'adult', 'christian', 'thrash', 'gothic',\n",
              "       'international', 'muslim', 'relax', 'schlager', 'caribbean', 'nu',\n",
              "       'breakbeat', 'comedy', 'chill', 'newage', 'specialty', 'uzbek',\n",
              "       'k-pop', 'balkan', 'chinese', 'meditative', 'dub', 'power',\n",
              "       'death', 'grime', 'arabesk', 'romance', 'flamenco', 'leftfield',\n",
              "       'european', 'tech', 'newwave', 'dancehall', 'mpb', 'piano', 'top',\n",
              "       'bigroom', 'opera', 'celtic', 'tradjazz', 'acoustic', 'epicmetal',\n",
              "       'historisch', 'downbeat', 'downtempo', 'africa', 'audiobook',\n",
              "       'jewish', 'sängerportrait', 'deutschrock', 'eastern', 'action',\n",
              "       'future', 'electropop', 'folklore', 'bollywood', 'marschmusik',\n",
              "       'rnr', 'karaoke', 'indian', 'rancheras', 'afrikaans', 'rhythm',\n",
              "       'sound', 'deutschspr', 'trip', 'lovers', 'choral', 'dancepop',\n",
              "       'retro', 'smooth', 'mexican', 'brazilian', 'ïîï', 'mood', 'surf',\n",
              "       'gangsta', 'inspirational', 'idm', 'ethnic', 'bluegrass',\n",
              "       'broadway', 'animated', 'americana', 'karadeniz', 'rockabilly',\n",
              "       'colombian', 'self', 'sertanejo', 'japanese', 'canzone', 'lounge',\n",
              "       'sport', 'ragga', 'traditional', 'gitarre', 'frankreich', 'emo',\n",
              "       'laiko', 'cantopop', 'glitch', 'documentary', 'oceania',\n",
              "       'popeurodance', 'dark', 'vi', 'grunge', 'hardstyle', 'samba',\n",
              "       'garage', 'art', 'folktronica', 'entehno', 'mediterranean',\n",
              "       'chamber', 'cuban', 'taraftar', 'gypsy', 'hardtechno',\n",
              "       'shoegazing', 'bossa', 'latino', 'worldbeat', 'malaysian', 'baile',\n",
              "       'ghazal', 'arabic', 'popelectronic', 'acid', 'kayokyoku',\n",
              "       'neoklassik', 'tribal', 'tanzorchester', 'native', 'independent',\n",
              "       'cantautori', 'handsup', 'punjabi', 'synthpop', 'rave',\n",
              "       'französisch', 'quebecois', 'speech', 'soulful', 'jam', 'ram',\n",
              "       'horror', 'orchestral', 'neue', 'roots', 'slow', 'jungle',\n",
              "       'indipop', 'axé', 'fado', 'showtunes', 'arena', 'irish',\n",
              "       'mandopop', 'forró', 'dirty', 'regional'], dtype=object)"
            ]
          },
          "execution_count": 20,
          "metadata": {},
          "output_type": "execute_result"
        }
      ],
      "source": [
        "df['genre'].unique()# memeriksa duplikat implisit"
      ]
    },
    {
      "cell_type": "code",
      "execution_count": null,
      "metadata": {
        "id": "yBlPUtraVm91",
        "outputId": "efd07b29-9fa8-4475-8d2e-7119acb52725"
      },
      "outputs": [
        {
          "data": {
            "text/plain": [
              "array(['acid', 'acoustic', 'action', 'adult', 'africa', 'afrikaans',\n",
              "       'alternative', 'ambient', 'americana', 'animated', 'anime',\n",
              "       'arabesk', 'arabic', 'arena', 'argentinetango', 'art', 'audiobook',\n",
              "       'avantgarde', 'axé', 'baile', 'balkan', 'beats', 'bigroom',\n",
              "       'black', 'bluegrass', 'blues', 'bollywood', 'bossa', 'brazilian',\n",
              "       'breakbeat', 'breaks', 'broadway', 'cantautori', 'cantopop',\n",
              "       'canzone', 'caribbean', 'caucasian', 'celtic', 'chamber',\n",
              "       'children', 'chill', 'chinese', 'choral', 'christian', 'christmas',\n",
              "       'classical', 'classicmetal', 'club', 'colombian', 'comedy',\n",
              "       'conjazz', 'contemporary', 'country', 'cuban', 'dance',\n",
              "       'dancehall', 'dancepop', 'dark', 'death', 'deep', 'deutschrock',\n",
              "       'deutschspr', 'dirty', 'disco', 'dnb', 'documentary', 'downbeat',\n",
              "       'downtempo', 'drum', 'dub', 'dubstep', 'eastern', 'easy',\n",
              "       'electronic', 'electropop', 'emo', 'entehno', 'epicmetal',\n",
              "       'estrada', 'ethnic', 'eurofolk', 'european', 'experimental',\n",
              "       'extrememetal', 'fado', 'film', 'fitness', 'flamenco', 'folk',\n",
              "       'folklore', 'folkmetal', 'folkrock', 'folktronica', 'forró',\n",
              "       'frankreich', 'französisch', 'french', 'funk', 'future', 'gangsta',\n",
              "       'garage', 'german', 'ghazal', 'gitarre', 'glitch', 'gospel',\n",
              "       'gothic', 'grime', 'grunge', 'gypsy', 'handsup', \"hard'n'heavy\",\n",
              "       'hardcore', 'hardstyle', 'hardtechno', 'hiphop', 'historisch',\n",
              "       'holiday', 'horror', 'house', 'idm', 'independent', 'indian',\n",
              "       'indie', 'indipop', 'industrial', 'inspirational', 'instrumental',\n",
              "       'international', 'irish', 'jam', 'japanese', 'jazz', 'jewish',\n",
              "       'jpop', 'jungle', 'k-pop', 'karadeniz', 'karaoke', 'kayokyoku',\n",
              "       'korean', 'laiko', 'latin', 'latino', 'leftfield', 'local',\n",
              "       'lounge', 'loungeelectronic', 'lovers', 'malaysian', 'mandopop',\n",
              "       'marschmusik', 'meditative', 'mediterranean', 'melodic', 'metal',\n",
              "       'metalcore', 'mexican', 'middle', 'minimal', 'miscellaneous',\n",
              "       'modern', 'mood', 'mpb', 'muslim', 'native', 'neoklassik', 'neue',\n",
              "       'new', 'newage', 'newwave', 'nu', 'nujazz', 'numetal', 'oceania',\n",
              "       'old', 'opera', 'orchestral', 'other', 'piano', 'pop',\n",
              "       'popelectronic', 'popeurodance', 'post', 'posthardcore',\n",
              "       'postrock', 'power', 'progmetal', 'progressive', 'psychedelic',\n",
              "       'punjabi', 'punk', 'quebecois', 'ragga', 'ram', 'rancheras', 'rap',\n",
              "       'rave', 'reggae', 'reggaeton', 'regional', 'relax', 'religious',\n",
              "       'retro', 'rhythm', 'rnb', 'rnr', 'rock', 'rockabilly', 'romance',\n",
              "       'roots', 'ruspop', 'rusrap', 'rusrock', 'salsa', 'samba',\n",
              "       'schlager', 'self', 'sertanejo', 'shoegazing', 'showtunes',\n",
              "       'singer', 'ska', 'slow', 'smooth', 'soul', 'soulful', 'sound',\n",
              "       'soundtrack', 'southern', 'specialty', 'speech', 'spiritual',\n",
              "       'sport', 'stonerrock', 'surf', 'swing', 'synthpop',\n",
              "       'sängerportrait', 'tango', 'tanzorchester', 'taraftar', 'tech',\n",
              "       'techno', 'thrash', 'top', 'traditional', 'tradjazz', 'trance',\n",
              "       'tribal', 'trip', 'triphop', 'tropical', 'türk', 'türkçe',\n",
              "       'unknown', 'urban', 'uzbek', 'variété', 'vi', 'videogame', 'vocal',\n",
              "       'western', 'world', 'worldbeat', 'ïîï'], dtype=object)"
            ]
          },
          "execution_count": 21,
          "metadata": {},
          "output_type": "execute_result"
        }
      ],
      "source": [
        "df['genre'].sort_values().unique()"
      ]
    },
    {
      "cell_type": "markdown",
      "metadata": {
        "id": "ALgNbvF3VtPA"
      },
      "source": [
        "[Kembali ke Daftar Isi](#back)"
      ]
    },
    {
      "cell_type": "markdown",
      "metadata": {
        "id": "jz6a9-7HQUDd"
      },
      "source": [
        "### Kesimpulan <a id='data_preprocessing_conclusions'></a>\n",
        "Kita mendeteksi tiga masalah dengan data:\n",
        "\n",
        "- Gaya penulisan judul yang salah\n",
        "- Nilai-nilai yang hilang\n",
        "- Duplikat eksplisit dan implisit\n",
        "\n",
        "Judulnya pun sekarang telah dibersihkan untuk mempermudah pemrosesan tabel.\n",
        "Semua nilai yang hilang telah diganti dengan `'unknown'`. Tapi kita masih harus melihat apakah nilai yang hilang dalam `'genre'` akan memengaruhi perhitungan kita.\n",
        "\n",
        "Tidak adanya duplikat akan membuat hasil lebih tepat dan lebih mudah dipahami.\n",
        "\n",
        "Sekarang kita dapat melanjutkan ke pengujian hipotesis."
      ]
    },
    {
      "cell_type": "markdown",
      "metadata": {
        "id": "eK1es74rVujj"
      },
      "source": [
        "[Back to Table of Contents](#back)"
      ]
    },
    {
      "cell_type": "markdown",
      "metadata": {
        "id": "WttZHXH0SqKk"
      },
      "source": [
        "## Stage 3. Hypothesis Testing <a id='hypotheses'></a>"
      ]
    },
    {
      "cell_type": "markdown",
      "metadata": {
        "id": "Im936VVi_Zcu"
      },
      "source": [
        "### Hypothesis 1: Users Activities in Two City <a id='activity'></a>"
      ]
    },
    {
      "cell_type": "markdown",
      "metadata": {
        "id": "nwt_MuaL_Zcu"
      },
      "source": [
        "According to the first hypothesis, users from Springfield and Shelbyville shows difference behaviour when listening to music. This hypothesis using data from: Monday, Wednesday, and Friday.\n",
        "\n",
        "* Seperate users into groups based on their cities.\n",
        "* Compare the number of songs played by each group on Monday, Wednesday, and Friday"
      ]
    },
    {
      "cell_type": "code",
      "execution_count": null,
      "metadata": {
        "id": "0_Qs96oh_Zcu",
        "outputId": "569c1e20-f201-4f2c-8f3c-b40a7664f3f2"
      },
      "outputs": [
        {
          "data": {
            "text/plain": [
              "user_city\n",
              "Shelbyville    18512\n",
              "Springfield    42741\n",
              "Name: track, dtype: int64"
            ]
          },
          "execution_count": 34,
          "metadata": {},
          "output_type": "execute_result"
        }
      ],
      "source": [
        "df.groupby('user_city')['track'].count()"
      ]
    },
    {
      "cell_type": "markdown",
      "metadata": {
        "id": "3NTKTPkqVm92"
      },
      "source": [
        "Spring field has more track played compare to Shelbyville. However, it doesnt mean Springfield citizen listen to music more frequently. This city is bigger and has more users."
      ]
    },
    {
      "cell_type": "code",
      "execution_count": null,
      "metadata": {
        "id": "uZMKjiJz_Zcu"
      },
      "outputs": [],
      "source": [
        "df.groupby('day_play')['track'].count()\n",
        "df_sv = df[df['user_city'] == 'Shelbyville']\n",
        "df_sv_monday = df_sv[df_sv['day_play'] == 'Monday']"
      ]
    },
    {
      "cell_type": "code",
      "execution_count": null,
      "metadata": {
        "id": "0BAVW42NVm92",
        "outputId": "52f01a55-b7c6-42a0-f261-e86655e64082"
      },
      "outputs": [
        {
          "data": {
            "text/plain": [
              "day_play\n",
              "Friday       21840\n",
              "Monday       21354\n",
              "Wednesday    18059\n",
              "Name: track, dtype: int64"
            ]
          },
          "execution_count": 24,
          "metadata": {},
          "output_type": "execute_result"
        }
      ],
      "source": [
        "df.groupby('day_play')['track'].count()"
      ]
    },
    {
      "cell_type": "markdown",
      "metadata": {
        "id": "cC2tNrlL_Zcu"
      },
      "source": [
        "Wedenesday is the most silent day overall. However, if we consider both cities seperately, we probably come to a diffent conclusion"
      ]
    },
    {
      "cell_type": "code",
      "execution_count": null,
      "metadata": {
        "id": "Nz3GdQB1_Zcu"
      },
      "outputs": [],
      "source": [
        "def number_tracks(day_play, user_city):\n",
        "    track_list = df[df['user_city'] == user_city]\n",
        "    track_list = track_list[track_list['day_play'] == day_play]\n",
        "    track_list_count = track_list['user_id'].count()\n",
        "    return track_list_count"
      ]
    },
    {
      "cell_type": "code",
      "execution_count": null,
      "metadata": {
        "id": "rJcRATNQ_Zcu",
        "outputId": "59c19b89-a3ee-4be4-c568-1cf075c7b5fd"
      },
      "outputs": [
        {
          "data": {
            "text/plain": [
              "15740"
            ]
          },
          "execution_count": 18,
          "metadata": {},
          "output_type": "execute_result"
        }
      ],
      "source": [
        "number_tracks('Monday', 'Springfield')"
      ]
    },
    {
      "cell_type": "code",
      "execution_count": null,
      "metadata": {
        "id": "hq_ncZ5T_Zcu",
        "outputId": "e7a791ab-ebd5-4828-d15b-bcae5dd697f0"
      },
      "outputs": [
        {
          "data": {
            "text/plain": [
              "5614"
            ]
          },
          "execution_count": 19,
          "metadata": {},
          "output_type": "execute_result"
        }
      ],
      "source": [
        "number_tracks('Monday', 'Shelbyville')"
      ]
    },
    {
      "cell_type": "code",
      "execution_count": null,
      "metadata": {
        "id": "_NTy2VPU_Zcu",
        "outputId": "931676fe-aea8-4cc7-82e6-acc1de7b10c3"
      },
      "outputs": [
        {
          "data": {
            "text/plain": [
              "11056"
            ]
          },
          "execution_count": 20,
          "metadata": {},
          "output_type": "execute_result"
        }
      ],
      "source": [
        "number_tracks('Wednesday', 'Springfield')"
      ]
    },
    {
      "cell_type": "code",
      "execution_count": null,
      "metadata": {
        "id": "j2y3TAwo_Zcu",
        "outputId": "4b06a7b7-75d2-4c4b-8849-152f3ced324f"
      },
      "outputs": [
        {
          "data": {
            "text/plain": [
              "7003"
            ]
          },
          "execution_count": 21,
          "metadata": {},
          "output_type": "execute_result"
        }
      ],
      "source": [
        "number_tracks('Wednesday', 'Shelbyville')"
      ]
    },
    {
      "cell_type": "code",
      "execution_count": null,
      "metadata": {
        "id": "vYDw5u_K_Zcu",
        "outputId": "fe8bd78e-2e0d-4ba8-c6cc-9c05681e3a4e"
      },
      "outputs": [
        {
          "data": {
            "text/plain": [
              "15945"
            ]
          },
          "execution_count": 22,
          "metadata": {},
          "output_type": "execute_result"
        }
      ],
      "source": [
        "number_tracks('Friday', 'Springfield')"
      ]
    },
    {
      "cell_type": "code",
      "execution_count": null,
      "metadata": {
        "id": "8_yzFtW3_Zcu",
        "outputId": "76871225-c5a1-4a96-efe1-558a7bfcbaa7"
      },
      "outputs": [
        {
          "data": {
            "text/plain": [
              "5895"
            ]
          },
          "execution_count": 23,
          "metadata": {},
          "output_type": "execute_result"
        }
      ],
      "source": [
        "number_tracks('Friday', 'Shelbyville')"
      ]
    },
    {
      "cell_type": "code",
      "execution_count": null,
      "metadata": {
        "id": "APAcLpOr_Zcu",
        "outputId": "b5dca9f8-d429-4a89-b5e4-1fb40ef0d2a4"
      },
      "outputs": [
        {
          "data": {
            "text/html": [
              "<div>\n",
              "<style scoped>\n",
              "    .dataframe tbody tr th:only-of-type {\n",
              "        vertical-align: middle;\n",
              "    }\n",
              "\n",
              "    .dataframe tbody tr th {\n",
              "        vertical-align: top;\n",
              "    }\n",
              "\n",
              "    .dataframe thead th {\n",
              "        text-align: right;\n",
              "    }\n",
              "</style>\n",
              "<table border=\"1\" class=\"dataframe\">\n",
              "  <thead>\n",
              "    <tr style=\"text-align: right;\">\n",
              "      <th></th>\n",
              "      <th>city</th>\n",
              "      <th>monday</th>\n",
              "      <th>wednesday</th>\n",
              "      <th>friday</th>\n",
              "    </tr>\n",
              "  </thead>\n",
              "  <tbody>\n",
              "    <tr>\n",
              "      <th>0</th>\n",
              "      <td>Springfield</td>\n",
              "      <td>15740</td>\n",
              "      <td>11056</td>\n",
              "      <td>15945</td>\n",
              "    </tr>\n",
              "    <tr>\n",
              "      <th>1</th>\n",
              "      <td>Shelbyville</td>\n",
              "      <td>5614</td>\n",
              "      <td>7003</td>\n",
              "      <td>5895</td>\n",
              "    </tr>\n",
              "  </tbody>\n",
              "</table>\n",
              "</div>"
            ],
            "text/plain": [
              "          city  monday  wednesday  friday\n",
              "0  Springfield   15740      11056   15945\n",
              "1  Shelbyville    5614       7003    5895"
            ]
          },
          "execution_count": 32,
          "metadata": {},
          "output_type": "execute_result"
        }
      ],
      "source": [
        "number_tracks = [\n",
        "    ['Springfield', \n",
        "     number_tracks('Monday', 'Springfield'), \n",
        "     number_tracks('Wednesday', 'Springfield'), \n",
        "     number_tracks('Friday', 'Springfield')],\n",
        "    ['Shelbyville', \n",
        "     number_tracks('Monday', 'Shelbyville'), \n",
        "     number_tracks('Wednesday', 'Shelbyville'), \n",
        "     number_tracks('Friday', 'Shelbyville')],\n",
        "]\n",
        "\n",
        "columns_name = ['city', 'monday', 'wednesday', 'friday']\n",
        "\n",
        "number_tracks_table = pd.DataFrame(data=number_tracks, columns=columns_name)\n",
        "number_tracks_table"
      ]
    },
    {
      "cell_type": "markdown",
      "metadata": {
        "id": "-EgPIHYu_Zcu"
      },
      "source": [
        "**Conclusions:**\n",
        "\n",
        "The data reveals differences in user behavior:\n",
        "\n",
        "- In Springfield, the number of songs played peaks on Mondays and Fridays, while there is a decrease in activity on Wednesdays.\n",
        "- In Shelbyville, users listen to more music on Wednesdays. User activity is lower on Mondays and Fridays"
      ]
    },
    {
      "cell_type": "markdown",
      "metadata": {
        "id": "p7nFQajCVw5B"
      },
      "source": [
        "[Back to Table of Contents](#back)"
      ]
    },
    {
      "cell_type": "markdown",
      "metadata": {
        "id": "atZAxtq4_Zcu"
      },
      "source": [
        "### Hypothesis 2: Music Preferences on Monday and Friday <a id='week'></a>"
      ]
    },
    {
      "cell_type": "markdown",
      "metadata": {
        "id": "eXrQqXFH_Zcu"
      },
      "source": [
        "According to second hypothesis, On Monday morning and Friday evening, residents of Springfield listen to different genres compared to those enjoyed by residents of Shelbyville."
      ]
    },
    {
      "cell_type": "code",
      "execution_count": null,
      "metadata": {
        "id": "qeaFfM_P_Zcu",
        "outputId": "3356fef7-3bc0-4938-fcab-1194f53f1a38"
      },
      "outputs": [
        {
          "data": {
            "text/html": [
              "<div>\n",
              "<style scoped>\n",
              "    .dataframe tbody tr th:only-of-type {\n",
              "        vertical-align: middle;\n",
              "    }\n",
              "\n",
              "    .dataframe tbody tr th {\n",
              "        vertical-align: top;\n",
              "    }\n",
              "\n",
              "    .dataframe thead th {\n",
              "        text-align: right;\n",
              "    }\n",
              "</style>\n",
              "<table border=\"1\" class=\"dataframe\">\n",
              "  <thead>\n",
              "    <tr style=\"text-align: right;\">\n",
              "      <th></th>\n",
              "      <th>index</th>\n",
              "      <th>user_id</th>\n",
              "      <th>track</th>\n",
              "      <th>artist</th>\n",
              "      <th>genre</th>\n",
              "      <th>user_city</th>\n",
              "      <th>time_play</th>\n",
              "      <th>day_play</th>\n",
              "    </tr>\n",
              "  </thead>\n",
              "  <tbody>\n",
              "    <tr>\n",
              "      <th>1</th>\n",
              "      <td>1</td>\n",
              "      <td>55204538</td>\n",
              "      <td>Delayed Because of Accident</td>\n",
              "      <td>Andreas Rönnberg</td>\n",
              "      <td>rock</td>\n",
              "      <td>Springfield</td>\n",
              "      <td>14:07:09</td>\n",
              "      <td>Friday</td>\n",
              "    </tr>\n",
              "    <tr>\n",
              "      <th>4</th>\n",
              "      <td>4</td>\n",
              "      <td>E2DC1FAE</td>\n",
              "      <td>Soul People</td>\n",
              "      <td>Space Echo</td>\n",
              "      <td>dance</td>\n",
              "      <td>Springfield</td>\n",
              "      <td>08:34:34</td>\n",
              "      <td>Monday</td>\n",
              "    </tr>\n",
              "    <tr>\n",
              "      <th>6</th>\n",
              "      <td>6</td>\n",
              "      <td>4CB90AA5</td>\n",
              "      <td>True</td>\n",
              "      <td>Roman Messer</td>\n",
              "      <td>dance</td>\n",
              "      <td>Springfield</td>\n",
              "      <td>13:00:07</td>\n",
              "      <td>Wednesday</td>\n",
              "    </tr>\n",
              "    <tr>\n",
              "      <th>7</th>\n",
              "      <td>7</td>\n",
              "      <td>F03E1C1F</td>\n",
              "      <td>Feeling This Way</td>\n",
              "      <td>Polina Griffith</td>\n",
              "      <td>dance</td>\n",
              "      <td>Springfield</td>\n",
              "      <td>20:47:49</td>\n",
              "      <td>Wednesday</td>\n",
              "    </tr>\n",
              "    <tr>\n",
              "      <th>8</th>\n",
              "      <td>8</td>\n",
              "      <td>8FA1D3BE</td>\n",
              "      <td>L’estate</td>\n",
              "      <td>Julia Dalia</td>\n",
              "      <td>ruspop</td>\n",
              "      <td>Springfield</td>\n",
              "      <td>09:17:40</td>\n",
              "      <td>Friday</td>\n",
              "    </tr>\n",
              "    <tr>\n",
              "      <th>...</th>\n",
              "      <td>...</td>\n",
              "      <td>...</td>\n",
              "      <td>...</td>\n",
              "      <td>...</td>\n",
              "      <td>...</td>\n",
              "      <td>...</td>\n",
              "      <td>...</td>\n",
              "      <td>...</td>\n",
              "    </tr>\n",
              "    <tr>\n",
              "      <th>61247</th>\n",
              "      <td>65073</td>\n",
              "      <td>83A474E7</td>\n",
              "      <td>I Worship Only What You Bleed</td>\n",
              "      <td>The Black Dahlia Murder</td>\n",
              "      <td>extrememetal</td>\n",
              "      <td>Springfield</td>\n",
              "      <td>21:07:12</td>\n",
              "      <td>Monday</td>\n",
              "    </tr>\n",
              "    <tr>\n",
              "      <th>61248</th>\n",
              "      <td>65074</td>\n",
              "      <td>729CBB09</td>\n",
              "      <td>My Name</td>\n",
              "      <td>McLean</td>\n",
              "      <td>rnb</td>\n",
              "      <td>Springfield</td>\n",
              "      <td>13:32:28</td>\n",
              "      <td>Wednesday</td>\n",
              "    </tr>\n",
              "    <tr>\n",
              "      <th>61250</th>\n",
              "      <td>65076</td>\n",
              "      <td>C5E3A0D5</td>\n",
              "      <td>Jalopiina</td>\n",
              "      <td>unknown</td>\n",
              "      <td>industrial</td>\n",
              "      <td>Springfield</td>\n",
              "      <td>20:09:26</td>\n",
              "      <td>Friday</td>\n",
              "    </tr>\n",
              "    <tr>\n",
              "      <th>61251</th>\n",
              "      <td>65077</td>\n",
              "      <td>321D0506</td>\n",
              "      <td>Freight Train</td>\n",
              "      <td>Chas McDevitt</td>\n",
              "      <td>rock</td>\n",
              "      <td>Springfield</td>\n",
              "      <td>21:43:59</td>\n",
              "      <td>Friday</td>\n",
              "    </tr>\n",
              "    <tr>\n",
              "      <th>61252</th>\n",
              "      <td>65078</td>\n",
              "      <td>3A64EF84</td>\n",
              "      <td>Tell Me Sweet Little Lies</td>\n",
              "      <td>Monica Lopez</td>\n",
              "      <td>country</td>\n",
              "      <td>Springfield</td>\n",
              "      <td>21:59:46</td>\n",
              "      <td>Friday</td>\n",
              "    </tr>\n",
              "  </tbody>\n",
              "</table>\n",
              "<p>42741 rows × 8 columns</p>\n",
              "</div>"
            ],
            "text/plain": [
              "       index   user_id                          track  \\\n",
              "1          1  55204538    Delayed Because of Accident   \n",
              "4          4  E2DC1FAE                    Soul People   \n",
              "6          6  4CB90AA5                           True   \n",
              "7          7  F03E1C1F               Feeling This Way   \n",
              "8          8  8FA1D3BE                       L’estate   \n",
              "...      ...       ...                            ...   \n",
              "61247  65073  83A474E7  I Worship Only What You Bleed   \n",
              "61248  65074  729CBB09                        My Name   \n",
              "61250  65076  C5E3A0D5                      Jalopiina   \n",
              "61251  65077  321D0506                  Freight Train   \n",
              "61252  65078  3A64EF84      Tell Me Sweet Little Lies   \n",
              "\n",
              "                        artist         genre    user_city time_play   day_play  \n",
              "1             Andreas Rönnberg          rock  Springfield  14:07:09     Friday  \n",
              "4                   Space Echo         dance  Springfield  08:34:34     Monday  \n",
              "6                 Roman Messer         dance  Springfield  13:00:07  Wednesday  \n",
              "7              Polina Griffith         dance  Springfield  20:47:49  Wednesday  \n",
              "8                  Julia Dalia        ruspop  Springfield  09:17:40     Friday  \n",
              "...                        ...           ...          ...       ...        ...  \n",
              "61247  The Black Dahlia Murder  extrememetal  Springfield  21:07:12     Monday  \n",
              "61248                   McLean           rnb  Springfield  13:32:28  Wednesday  \n",
              "61250                  unknown    industrial  Springfield  20:09:26     Friday  \n",
              "61251            Chas McDevitt          rock  Springfield  21:43:59     Friday  \n",
              "61252             Monica Lopez       country  Springfield  21:59:46     Friday  \n",
              "\n",
              "[42741 rows x 8 columns]"
            ]
          },
          "execution_count": 24,
          "metadata": {},
          "output_type": "execute_result"
        }
      ],
      "source": [
        "spr_general = df[df['user_city'] == 'Springfield']\n",
        "spr_general"
      ]
    },
    {
      "cell_type": "code",
      "execution_count": null,
      "metadata": {
        "id": "ORaVRKto_Zcu",
        "scrolled": true,
        "outputId": "c58e0256-f205-403a-e8fb-09a8b09d1631"
      },
      "outputs": [
        {
          "data": {
            "text/html": [
              "<div>\n",
              "<style scoped>\n",
              "    .dataframe tbody tr th:only-of-type {\n",
              "        vertical-align: middle;\n",
              "    }\n",
              "\n",
              "    .dataframe tbody tr th {\n",
              "        vertical-align: top;\n",
              "    }\n",
              "\n",
              "    .dataframe thead th {\n",
              "        text-align: right;\n",
              "    }\n",
              "</style>\n",
              "<table border=\"1\" class=\"dataframe\">\n",
              "  <thead>\n",
              "    <tr style=\"text-align: right;\">\n",
              "      <th></th>\n",
              "      <th>index</th>\n",
              "      <th>user_id</th>\n",
              "      <th>track</th>\n",
              "      <th>artist</th>\n",
              "      <th>genre</th>\n",
              "      <th>user_city</th>\n",
              "      <th>time_play</th>\n",
              "      <th>day_play</th>\n",
              "    </tr>\n",
              "  </thead>\n",
              "  <tbody>\n",
              "    <tr>\n",
              "      <th>0</th>\n",
              "      <td>0</td>\n",
              "      <td>FFB692EC</td>\n",
              "      <td>Kamigata To Boots</td>\n",
              "      <td>The Mass Missile</td>\n",
              "      <td>rock</td>\n",
              "      <td>Shelbyville</td>\n",
              "      <td>20:28:33</td>\n",
              "      <td>Wednesday</td>\n",
              "    </tr>\n",
              "    <tr>\n",
              "      <th>2</th>\n",
              "      <td>2</td>\n",
              "      <td>20EC38</td>\n",
              "      <td>Funiculì funiculà</td>\n",
              "      <td>Mario Lanza</td>\n",
              "      <td>pop</td>\n",
              "      <td>Shelbyville</td>\n",
              "      <td>20:58:07</td>\n",
              "      <td>Wednesday</td>\n",
              "    </tr>\n",
              "    <tr>\n",
              "      <th>3</th>\n",
              "      <td>3</td>\n",
              "      <td>A3DD03C9</td>\n",
              "      <td>Dragons in the Sunset</td>\n",
              "      <td>Fire + Ice</td>\n",
              "      <td>folk</td>\n",
              "      <td>Shelbyville</td>\n",
              "      <td>08:37:09</td>\n",
              "      <td>Monday</td>\n",
              "    </tr>\n",
              "    <tr>\n",
              "      <th>5</th>\n",
              "      <td>5</td>\n",
              "      <td>842029A1</td>\n",
              "      <td>Chains</td>\n",
              "      <td>Obladaet</td>\n",
              "      <td>rusrap</td>\n",
              "      <td>Shelbyville</td>\n",
              "      <td>13:09:41</td>\n",
              "      <td>Friday</td>\n",
              "    </tr>\n",
              "    <tr>\n",
              "      <th>9</th>\n",
              "      <td>9</td>\n",
              "      <td>E772D5C0</td>\n",
              "      <td>Pessimist</td>\n",
              "      <td>unknown</td>\n",
              "      <td>dance</td>\n",
              "      <td>Shelbyville</td>\n",
              "      <td>21:20:49</td>\n",
              "      <td>Wednesday</td>\n",
              "    </tr>\n",
              "    <tr>\n",
              "      <th>...</th>\n",
              "      <td>...</td>\n",
              "      <td>...</td>\n",
              "      <td>...</td>\n",
              "      <td>...</td>\n",
              "      <td>...</td>\n",
              "      <td>...</td>\n",
              "      <td>...</td>\n",
              "      <td>...</td>\n",
              "    </tr>\n",
              "    <tr>\n",
              "      <th>61239</th>\n",
              "      <td>65063</td>\n",
              "      <td>D94F810B</td>\n",
              "      <td>Theme from the Walking Dead</td>\n",
              "      <td>Proyecto Halloween</td>\n",
              "      <td>film</td>\n",
              "      <td>Shelbyville</td>\n",
              "      <td>21:14:40</td>\n",
              "      <td>Monday</td>\n",
              "    </tr>\n",
              "    <tr>\n",
              "      <th>61240</th>\n",
              "      <td>65064</td>\n",
              "      <td>BC8EC5CF</td>\n",
              "      <td>Red Lips: Gta (Rover Rework)</td>\n",
              "      <td>Rover</td>\n",
              "      <td>electronic</td>\n",
              "      <td>Shelbyville</td>\n",
              "      <td>21:06:50</td>\n",
              "      <td>Monday</td>\n",
              "    </tr>\n",
              "    <tr>\n",
              "      <th>61241</th>\n",
              "      <td>65065</td>\n",
              "      <td>29E04611</td>\n",
              "      <td>Bre Petrunko</td>\n",
              "      <td>Perunika Trio</td>\n",
              "      <td>world</td>\n",
              "      <td>Shelbyville</td>\n",
              "      <td>13:56:00</td>\n",
              "      <td>Monday</td>\n",
              "    </tr>\n",
              "    <tr>\n",
              "      <th>61242</th>\n",
              "      <td>65066</td>\n",
              "      <td>1B91C621</td>\n",
              "      <td>(Hello) Cloud Mountain</td>\n",
              "      <td>sleepmakeswaves</td>\n",
              "      <td>postrock</td>\n",
              "      <td>Shelbyville</td>\n",
              "      <td>09:22:13</td>\n",
              "      <td>Monday</td>\n",
              "    </tr>\n",
              "    <tr>\n",
              "      <th>61249</th>\n",
              "      <td>65075</td>\n",
              "      <td>D08D4A55</td>\n",
              "      <td>Maybe One Day (feat. Black Spade)</td>\n",
              "      <td>Blu &amp; Exile</td>\n",
              "      <td>hiphop</td>\n",
              "      <td>Shelbyville</td>\n",
              "      <td>10:00:00</td>\n",
              "      <td>Monday</td>\n",
              "    </tr>\n",
              "  </tbody>\n",
              "</table>\n",
              "<p>18512 rows × 8 columns</p>\n",
              "</div>"
            ],
            "text/plain": [
              "       index   user_id                              track              artist  \\\n",
              "0          0  FFB692EC                  Kamigata To Boots    The Mass Missile   \n",
              "2          2    20EC38                  Funiculì funiculà         Mario Lanza   \n",
              "3          3  A3DD03C9              Dragons in the Sunset          Fire + Ice   \n",
              "5          5  842029A1                             Chains            Obladaet   \n",
              "9          9  E772D5C0                          Pessimist             unknown   \n",
              "...      ...       ...                                ...                 ...   \n",
              "61239  65063  D94F810B        Theme from the Walking Dead  Proyecto Halloween   \n",
              "61240  65064  BC8EC5CF       Red Lips: Gta (Rover Rework)               Rover   \n",
              "61241  65065  29E04611                       Bre Petrunko       Perunika Trio   \n",
              "61242  65066  1B91C621             (Hello) Cloud Mountain     sleepmakeswaves   \n",
              "61249  65075  D08D4A55  Maybe One Day (feat. Black Spade)         Blu & Exile   \n",
              "\n",
              "            genre    user_city time_play   day_play  \n",
              "0            rock  Shelbyville  20:28:33  Wednesday  \n",
              "2             pop  Shelbyville  20:58:07  Wednesday  \n",
              "3            folk  Shelbyville  08:37:09     Monday  \n",
              "5          rusrap  Shelbyville  13:09:41     Friday  \n",
              "9           dance  Shelbyville  21:20:49  Wednesday  \n",
              "...           ...          ...       ...        ...  \n",
              "61239        film  Shelbyville  21:14:40     Monday  \n",
              "61240  electronic  Shelbyville  21:06:50     Monday  \n",
              "61241       world  Shelbyville  13:56:00     Monday  \n",
              "61242    postrock  Shelbyville  09:22:13     Monday  \n",
              "61249      hiphop  Shelbyville  10:00:00     Monday  \n",
              "\n",
              "[18512 rows x 8 columns]"
            ]
          },
          "execution_count": 25,
          "metadata": {},
          "output_type": "execute_result"
        }
      ],
      "source": [
        "shel_general = df[df['user_city'] == 'Shelbyville']\n",
        "shel_general"
      ]
    },
    {
      "cell_type": "markdown",
      "metadata": {
        "id": "HKaHYVgtVm95"
      },
      "source": [
        "<div class=\"alert alert-success\">\n",
        "<b>Reviewer's comment v1</b> <a class=\"tocSkip\"></a>\n",
        "\n",
        "Semuanya berjalan dengan baik!\n",
        "\n",
        "</div>"
      ]
    },
    {
      "cell_type": "markdown",
      "metadata": {
        "id": "MEJV-CX2_Zcu"
      },
      "source": [
        "Write a function named genre_weekday() with four parameters:\n",
        "* A table for data\n",
        "* Day name\n",
        "* Starting time stamp, in the format of 'hh:mm'\n",
        "* Ending time stamp, in the format of 'hh:mm'\n",
        "\n",
        "The function should provide information about the 15 most popular genres on a specific day during the period between two time stamps."
      ]
    },
    {
      "cell_type": "code",
      "execution_count": null,
      "metadata": {
        "id": "laJT9BYl_Zcu"
      },
      "outputs": [],
      "source": [
        "def genre_weekday(day_play, time1, time2, user_city):\n",
        "    genre_df = user_city[user_city['day_play'] == day_play]\n",
        "    genre_df = genre_df[genre_df['time_play'] < time2]\n",
        "    genre_df = genre_df[genre_df['time_play'] > time1]\n",
        "    genre_df_grouped = genre_df.groupby('genre')['genre'].count()\n",
        "    genre_df_sorted = genre_df_grouped.sort_values(ascending = False)\n",
        "    return genre_df_sorted[:15]"
      ]
    },
    {
      "cell_type": "markdown",
      "metadata": {
        "id": "5QqPkdFTVm95"
      },
      "source": [
        "<div class=\"alert alert-success\">\n",
        "<b>Reviewer's comment v1</b> <a class=\"tocSkip\"></a>\n",
        "\n",
        "Fungsi telah didefinisikan dengan tepat.\n",
        "\n",
        "</div>"
      ]
    },
    {
      "cell_type": "markdown",
      "metadata": {
        "id": "la2s2_PF_Zcu"
      },
      "source": [
        "Compare the results of the genre_weekday() function for Springfield and Shelbyville on Monday morning (from 07:00 to 11:00) and on Friday night (from 17:00 to 23:00):"
      ]
    },
    {
      "cell_type": "code",
      "execution_count": null,
      "metadata": {
        "id": "yz7itPUQ_Zcu",
        "outputId": "c81ffc9a-4e32-4267-e4be-583d98747b54"
      },
      "outputs": [
        {
          "data": {
            "text/plain": [
              "genre\n",
              "pop            781\n",
              "dance          549\n",
              "electronic     480\n",
              "rock           474\n",
              "hiphop         286\n",
              "ruspop         186\n",
              "world          181\n",
              "rusrap         175\n",
              "alternative    164\n",
              "unknown        161\n",
              "classical      157\n",
              "metal          120\n",
              "jazz           100\n",
              "folk            97\n",
              "soundtrack      95\n",
              "Name: genre, dtype: int64"
            ]
          },
          "execution_count": 36,
          "metadata": {},
          "output_type": "execute_result"
        }
      ],
      "source": [
        "genre_weekday('Monday', '07:00', '11:00', spr_general)"
      ]
    },
    {
      "cell_type": "code",
      "execution_count": null,
      "metadata": {
        "id": "kwUcHPdy_Zcu",
        "outputId": "69934a3e-dc71-44a5-f1ef-221d589ef252"
      },
      "outputs": [
        {
          "data": {
            "text/plain": [
              "genre\n",
              "pop            218\n",
              "dance          182\n",
              "rock           162\n",
              "electronic     147\n",
              "hiphop          80\n",
              "ruspop          64\n",
              "alternative     58\n",
              "rusrap          55\n",
              "jazz            44\n",
              "classical       40\n",
              "world           36\n",
              "rap             32\n",
              "soundtrack      31\n",
              "rnb             27\n",
              "metal           27\n",
              "Name: genre, dtype: int64"
            ]
          },
          "execution_count": 27,
          "metadata": {},
          "output_type": "execute_result"
        }
      ],
      "source": [
        "genre_weekday('Monday', '07:00', '11:00', shel_general)"
      ]
    },
    {
      "cell_type": "code",
      "execution_count": null,
      "metadata": {
        "id": "EzXVRE1o_Zcu",
        "outputId": "eabcfa90-7996-492f-9dca-54e06de80899"
      },
      "outputs": [
        {
          "data": {
            "text/plain": [
              "genre\n",
              "pop            713\n",
              "rock           517\n",
              "dance          495\n",
              "electronic     482\n",
              "hiphop         273\n",
              "world          208\n",
              "ruspop         170\n",
              "classical      163\n",
              "alternative    163\n",
              "rusrap         142\n",
              "jazz           111\n",
              "unknown        110\n",
              "soundtrack     105\n",
              "rnb             90\n",
              "metal           88\n",
              "Name: genre, dtype: int64"
            ]
          },
          "execution_count": 28,
          "metadata": {},
          "output_type": "execute_result"
        }
      ],
      "source": [
        "genre_weekday('Friday', '17:00', '23:00', spr_general)"
      ]
    },
    {
      "cell_type": "code",
      "execution_count": null,
      "metadata": {
        "id": "JZaEKu5v_Zcu",
        "outputId": "69421a83-0c30-4956-fa5c-36e2395c9324"
      },
      "outputs": [
        {
          "data": {
            "text/plain": [
              "genre\n",
              "pop            211\n",
              "dance          192\n",
              "electronic     167\n",
              "rock           156\n",
              "hiphop         109\n",
              "classical       56\n",
              "alternative     55\n",
              "rusrap          55\n",
              "world           46\n",
              "ruspop          45\n",
              "metal           42\n",
              "latin           41\n",
              "rap             36\n",
              "rnb             33\n",
              "jazz            32\n",
              "Name: genre, dtype: int64"
            ]
          },
          "execution_count": 29,
          "metadata": {},
          "output_type": "execute_result"
        }
      ],
      "source": [
        "genre_weekday('Friday', '07:00', '11:00', shel_general)"
      ]
    },
    {
      "cell_type": "markdown",
      "metadata": {
        "id": "wrCe4MNX_Zcu"
      },
      "source": [
        "**Conclusions:**\n",
        "\n",
        "After comparing the top 15 genres on Monday morning, we can draw the following conclusions:\n",
        "\n",
        "1. Users from Springfield and Shelbyville listen to music with the same genres. The top five genres are the same, with only rock and electronic exchanging places.\n",
        "\n",
        "2. In Springfield, the amount of missing values is significant, with the value 'unknown' ranked tenth. This means that the missing values have a substantial amount of data, which may raise questions about the accuracy of our conclusions.\n",
        "\n",
        "For Friday night, the situation is similar. Individual genres are quite varied, but overall, the top 15 genres for both cities are the same.\n",
        "\n",
        "Thus, the second hypothesis is partially confirmed:\n",
        "\n",
        "* Users listen to the same music at the beginning and end of the week.\n",
        "* There is no striking difference between Springfield and Shelbyville. In both cities, pop is the most popular genre.\n",
        "\n",
        "However, the number of missing values raises questions about these results. In Springfield, so much influences our top 15. If we do not ignore these values, the results may be different."
      ]
    },
    {
      "cell_type": "markdown",
      "metadata": {
        "id": "jLmXgdanVyhP"
      },
      "source": [
        "[Back to Table of Contents](#back)"
      ]
    },
    {
      "cell_type": "markdown",
      "metadata": {
        "id": "JolODAqr_Zcu"
      },
      "source": [
        "### Hypothesis 3: Genre Preferences in Springfield and Shelbyville <a id='genre'></a>\n",
        "\n",
        "Hypothesis 3: Shelbyville loves rap music. In other hand, Springfield prefer pop music."
      ]
    },
    {
      "cell_type": "markdown",
      "metadata": {
        "id": "DlegSvaT_Zcu"
      },
      "source": [
        "Group table `spr_general` by genre and find amount of track plated for each genre using `count()` method. Then sort the values by descending and save to `spr_genres`."
      ]
    },
    {
      "cell_type": "code",
      "execution_count": null,
      "metadata": {
        "id": "r19lIPke_Zcu"
      },
      "outputs": [],
      "source": [
        "spr_genres = spr_general.groupby('genre')['genre'].count()\n",
        "spr_genres = spr_genres.sort_values(ascending = False)"
      ]
    },
    {
      "cell_type": "code",
      "execution_count": null,
      "metadata": {
        "id": "WhCSooF8_Zcv",
        "outputId": "b8bdcf40-75dd-4642-aa99-1c455555c851"
      },
      "outputs": [
        {
          "data": {
            "text/plain": [
              "genre\n",
              "pop            5892\n",
              "dance          4435\n",
              "rock           3965\n",
              "electronic     3786\n",
              "hiphop         2096\n",
              "classical      1616\n",
              "world          1432\n",
              "alternative    1379\n",
              "ruspop         1372\n",
              "rusrap         1161\n",
              "Name: genre, dtype: int64"
            ]
          },
          "execution_count": 41,
          "metadata": {},
          "output_type": "execute_result"
        }
      ],
      "source": [
        "spr_genres.head(10)# menampilkan 10 baris pertama dari spr_genres"
      ]
    },
    {
      "cell_type": "markdown",
      "metadata": {
        "id": "cnPG2vnN_Zcv"
      },
      "source": [
        "Do same thing for Shelbyville Data"
      ]
    },
    {
      "cell_type": "code",
      "execution_count": null,
      "metadata": {
        "id": "gluLIpE7_Zcv"
      },
      "outputs": [],
      "source": [
        "shel_genres = shel_general.groupby('genre')['genre'].count()\n",
        "shel_genres = shel_genres.sort_values(ascending = False)"
      ]
    },
    {
      "cell_type": "code",
      "execution_count": null,
      "metadata": {
        "id": "uaGJHjVU_Zcv",
        "scrolled": true,
        "outputId": "7be171a2-22ae-45eb-8f51-55cbad15d04d"
      },
      "outputs": [
        {
          "data": {
            "text/plain": [
              "genre\n",
              "pop            2431\n",
              "dance          1932\n",
              "rock           1879\n",
              "electronic     1736\n",
              "hiphop          960\n",
              "alternative     649\n",
              "classical       646\n",
              "rusrap          564\n",
              "ruspop          538\n",
              "world           515\n",
              "Name: genre, dtype: int64"
            ]
          },
          "execution_count": 33,
          "metadata": {},
          "output_type": "execute_result"
        }
      ],
      "source": [
        "shel_genres.head(10)"
      ]
    },
    {
      "cell_type": "markdown",
      "metadata": {
        "id": "RY51YJYu_Zcv"
      },
      "source": [
        "**Kesimpulan**"
      ]
    },
    {
      "cell_type": "markdown",
      "metadata": {
        "id": "nVhnJEm__Zcv"
      },
      "source": [
        "The hypothesis is partially confirmed:\n",
        "\n",
        "* Pop music is the most popular genre in Springfield, as expected.\n",
        "* However, pop music is equally popular in both Springfield and Shelbyville, and rap music does not make it to the top 5 for both cities"
      ]
    },
    {
      "cell_type": "markdown",
      "metadata": {
        "id": "Byr0RfpPVz14"
      },
      "source": [
        "[Back to Table of Contents](#back)"
      ]
    },
    {
      "cell_type": "markdown",
      "metadata": {
        "id": "ykKQ0N65_Zcv"
      },
      "source": [
        "# Findings <a id='end'></a>"
      ]
    },
    {
      "cell_type": "markdown",
      "metadata": {
        "id": "tjUwbHb3_Zcv"
      },
      "source": [
        "We have tested the following three hypotheses:\n",
        "\n",
        "1. User activity varies depending on the day and city.\n",
        "2. On Monday morning, Springfield and Shelbyville residents listen to different genres. This also applies to Friday night.\n",
        "3. Listeners in Springfield and Shelbyville have different preferences. Both Springfield and Shelbyville prefer pop music.\n",
        "\n",
        "After analyzing the data, we can conclude:\n",
        "\n",
        "1. User activity in Springfield and Shelbyville depends on the day, and the cities.\n",
        "\n",
        "    The first hypothesis can be fully accepted.\n",
        "\n",
        "\n",
        "2. Music preferences are not significantly different during the week in Springfield and Shelbyville. We can see a small difference in the ranking on Monday, but both Springfield and Shelbyville, people listen to pop music the most.\n",
        "\n",
        "    So this hypothesis cannot be accepted. We should also remember that the results may be different if not for the missing values.\n",
        "\n",
        "\n",
        "3. It turns out that the music preferences of users from Springfield and Shelbyville are very similar.\n",
        "\n",
        "    The third hypothesis is rejected. If there were differences in preferences, they could not be seen from this data.\n",
        "    \n",
        "Based on the analysis, the marketing team can consider the following recommendations:\n",
        "\n",
        "1. Since user activity varies depending on the day, the marketing team can plan their campaigns accordingly. For instance, they can run ads on Monday mornings targeting Springfield and Shelbyville residents based on their respective music genres.\n",
        "\n",
        "2. As pop music is the most preferred genre in both Springfield and Shelbyville, the marketing team can focus on promoting pop music-related products or services in these cities. They can also consider partnering with popular pop music artists to attract more listeners.\n",
        "\n",
        "3. The marketing team should be cautious while making assumptions about user preferences based on the limited data available. They can conduct more research to obtain a more comprehensive understanding of user behavior and preferences."
      ]
    },
    {
      "cell_type": "markdown",
      "metadata": {
        "id": "Ju4AHDSgV1FE"
      },
      "source": [
        "[Back to Table of Contents](#back)"
      ]
    }
  ],
  "metadata": {
    "colab": {
      "collapsed_sections": [
        "VUC88oWjTJw2",
        "atZAxtq4_Zcu"
      ],
      "provenance": []
    },
    "kernelspec": {
      "display_name": "Python 3 (ipykernel)",
      "language": "python",
      "name": "python3"
    },
    "language_info": {
      "codemirror_mode": {
        "name": "ipython",
        "version": 3
      },
      "file_extension": ".py",
      "mimetype": "text/x-python",
      "name": "python",
      "nbconvert_exporter": "python",
      "pygments_lexer": "ipython3",
      "version": "3.9.5"
    },
    "toc": {
      "base_numbering": 1,
      "nav_menu": {},
      "number_sections": true,
      "sideBar": true,
      "skip_h1_title": true,
      "title_cell": "Table of Contents",
      "title_sidebar": "Contents",
      "toc_cell": false,
      "toc_position": {},
      "toc_section_display": true,
      "toc_window_display": true
    }
  },
  "nbformat": 4,
  "nbformat_minor": 0
}